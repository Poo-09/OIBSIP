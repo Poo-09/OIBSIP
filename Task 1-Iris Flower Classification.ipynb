{
 "cells": [
  {
   "cell_type": "code",
   "execution_count": 1,
   "metadata": {},
   "outputs": [],
    "import numpy as np\n",
    "import pandas as pd\n",
    "import matplotlib.pyplot as plt\n",
    "import seaborn as sns\n",
    "from sklearn.model_selection import train_test_split\n",
    "from sklearn.linear_model import LinearRegression\n",
    "from sklearn.metrics import accuracy_score"
   ]
  },
  {
   "cell_type": "markdown",
   "id": "269bbfd6",
   "metadata": {},
   "source": [
    "# Importing Dataset\n"
   ]
  },
  {
   "cell_type": "code",
   "execution_count": 23,
   "id": "aac15eae",
   "metadata": {},
   "outputs": [],
   "source": [
    "d=pd.read_csv(\"D:\\Iris.csv\")\n",
    "\n"
   ]
  },
  {
   "cell_type": "code",
   "execution_count": 25,
   "id": "42be7a7f",
   "metadata": {},
   "outputs": [
    {
     "data": {
      "text/plain": [
       "(150, 6)"
      ]
     },
     "execution_count": 25,
     "metadata": {},
     "output_type": "execute_result"
    }
   ],
   "source": [
    "d.shape"
   ]
  },
  {
   "cell_type": "code",
   "execution_count": 18,
   "id": "2b6ef77b",
   "metadata": {},
   "outputs": [
    {
     "data": {
      "text/html": [
       "<div>\n",
       "<style scoped>\n",
       "    .dataframe tbody tr th:only-of-type {\n",
       "        vertical-align: middle;\n",
       "    }\n",
       "\n",
       "    .dataframe tbody tr th {\n",
       "        vertical-align: top;\n",
       "    }\n",
       "\n",
       "    .dataframe thead th {\n",
       "        text-align: right;\n",
       "    }\n",
       "</style>\n",
       "<table border=\"1\" class=\"dataframe\">\n",
       "  <thead>\n",
       "    <tr style=\"text-align: right;\">\n",
       "      <th></th>\n",
       "      <th>Id</th>\n",
       "      <th>SepalLengthCm</th>\n",
       "      <th>SepalWidthCm</th>\n",
       "      <th>PetalLengthCm</th>\n",
       "      <th>PetalWidthCm</th>\n",
       "      <th>Species</th>\n",
       "    </tr>\n",
       "  </thead>\n",
       "  <tbody>\n",
       "    <tr>\n",
       "      <th>0</th>\n",
       "      <td>1</td>\n",
       "      <td>5.1</td>\n",
       "      <td>3.5</td>\n",
       "      <td>1.4</td>\n",
       "      <td>0.2</td>\n",
       "      <td>Iris-setosa</td>\n",
       "    </tr>\n",
       "    <tr>\n",
       "      <th>1</th>\n",
       "      <td>2</td>\n",
       "      <td>4.9</td>\n",
       "      <td>3.0</td>\n",
       "      <td>1.4</td>\n",
       "      <td>0.2</td>\n",
       "      <td>Iris-setosa</td>\n",
       "    </tr>\n",
       "    <tr>\n",
       "      <th>2</th>\n",
       "      <td>3</td>\n",
       "      <td>4.7</td>\n",
       "      <td>3.2</td>\n",
       "      <td>1.3</td>\n",
       "      <td>0.2</td>\n",
       "      <td>Iris-setosa</td>\n",
       "    </tr>\n",
       "    <tr>\n",
       "      <th>3</th>\n",
       "      <td>4</td>\n",
       "      <td>4.6</td>\n",
       "      <td>3.1</td>\n",
       "      <td>1.5</td>\n",
       "      <td>0.2</td>\n",
       "      <td>Iris-setosa</td>\n",
       "    </tr>\n",
       "    <tr>\n",
       "      <th>4</th>\n",
       "      <td>5</td>\n",
       "      <td>5.0</td>\n",
       "      <td>3.6</td>\n",
       "      <td>1.4</td>\n",
       "      <td>0.2</td>\n",
       "      <td>Iris-setosa</td>\n",
       "    </tr>\n",
       "  </tbody>\n",
       "</table>\n",
       "</div>"
      ],
      "text/plain": [
       "   Id  SepalLengthCm  SepalWidthCm  PetalLengthCm  PetalWidthCm      Species\n",
       "0   1            5.1           3.5            1.4           0.2  Iris-setosa\n",
       "1   2            4.9           3.0            1.4           0.2  Iris-setosa\n",
       "2   3            4.7           3.2            1.3           0.2  Iris-setosa\n",
       "3   4            4.6           3.1            1.5           0.2  Iris-setosa\n",
       "4   5            5.0           3.6            1.4           0.2  Iris-setosa"
      ]
     },
     "execution_count": 18,
     "metadata": {},
     "output_type": "execute_result"
    }
   ],
   "source": [
    "d.head()"
   ]
  },
  {
   "cell_type": "code",
   "execution_count": 19,
   "id": "5417a5f5",
   "metadata": {},
   "outputs": [
    {
     "data": {
      "text/html": [
       "<div>\n",
       "<style scoped>\n",
       "    .dataframe tbody tr th:only-of-type {\n",
       "        vertical-align: middle;\n",
       "    }\n",
       "\n",
       "    .dataframe tbody tr th {\n",
       "        vertical-align: top;\n",
       "    }\n",
       "\n",
       "    .dataframe thead th {\n",
       "        text-align: right;\n",
       "    }\n",
       "</style>\n",
       "<table border=\"1\" class=\"dataframe\">\n",
       "  <thead>\n",
       "    <tr style=\"text-align: right;\">\n",
       "      <th></th>\n",
       "      <th>Id</th>\n",
       "      <th>SepalLengthCm</th>\n",
       "      <th>SepalWidthCm</th>\n",
       "      <th>PetalLengthCm</th>\n",
       "      <th>PetalWidthCm</th>\n",
       "      <th>Species</th>\n",
       "    </tr>\n",
       "  </thead>\n",
       "  <tbody>\n",
       "    <tr>\n",
       "      <th>0</th>\n",
       "      <td>1</td>\n",
       "      <td>5.1</td>\n",
       "      <td>3.5</td>\n",
       "      <td>1.4</td>\n",
       "      <td>0.2</td>\n",
       "      <td>Iris-setosa</td>\n",
       "    </tr>\n",
       "    <tr>\n",
       "      <th>1</th>\n",
       "      <td>2</td>\n",
       "      <td>4.9</td>\n",
       "      <td>3.0</td>\n",
       "      <td>1.4</td>\n",
       "      <td>0.2</td>\n",
       "      <td>Iris-setosa</td>\n",
       "    </tr>\n",
       "    <tr>\n",
       "      <th>2</th>\n",
       "      <td>3</td>\n",
       "      <td>4.7</td>\n",
       "      <td>3.2</td>\n",
       "      <td>1.3</td>\n",
       "      <td>0.2</td>\n",
       "      <td>Iris-setosa</td>\n",
       "    </tr>\n",
       "    <tr>\n",
       "      <th>3</th>\n",
       "      <td>4</td>\n",
       "      <td>4.6</td>\n",
       "      <td>3.1</td>\n",
       "      <td>1.5</td>\n",
       "      <td>0.2</td>\n",
       "      <td>Iris-setosa</td>\n",
       "    </tr>\n",
       "    <tr>\n",
       "      <th>4</th>\n",
       "      <td>5</td>\n",
       "      <td>5.0</td>\n",
       "      <td>3.6</td>\n",
       "      <td>1.4</td>\n",
       "      <td>0.2</td>\n",
       "      <td>Iris-setosa</td>\n",
       "    </tr>\n",
       "    <tr>\n",
       "      <th>5</th>\n",
       "      <td>6</td>\n",
       "      <td>5.4</td>\n",
       "      <td>3.9</td>\n",
       "      <td>1.7</td>\n",
       "      <td>0.4</td>\n",
       "      <td>Iris-setosa</td>\n",
       "    </tr>\n",
       "    <tr>\n",
       "      <th>6</th>\n",
       "      <td>7</td>\n",
       "      <td>4.6</td>\n",
       "      <td>3.4</td>\n",
       "      <td>1.4</td>\n",
       "      <td>0.3</td>\n",
       "      <td>Iris-setosa</td>\n",
       "    </tr>\n",
       "    <tr>\n",
       "      <th>7</th>\n",
       "      <td>8</td>\n",
       "      <td>5.0</td>\n",
       "      <td>3.4</td>\n",
       "      <td>1.5</td>\n",
       "      <td>0.2</td>\n",
       "      <td>Iris-setosa</td>\n",
       "    </tr>\n",
       "    <tr>\n",
       "      <th>8</th>\n",
       "      <td>9</td>\n",
       "      <td>4.4</td>\n",
       "      <td>2.9</td>\n",
       "      <td>1.4</td>\n",
       "      <td>0.2</td>\n",
       "      <td>Iris-setosa</td>\n",
       "    </tr>\n",
       "    <tr>\n",
       "      <th>9</th>\n",
       "      <td>10</td>\n",
       "      <td>4.9</td>\n",
       "      <td>3.1</td>\n",
       "      <td>1.5</td>\n",
       "      <td>0.1</td>\n",
       "      <td>Iris-setosa</td>\n",
       "    </tr>\n",
       "    <tr>\n",
       "      <th>10</th>\n",
       "      <td>11</td>\n",
       "      <td>5.4</td>\n",
       "      <td>3.7</td>\n",
       "      <td>1.5</td>\n",
       "      <td>0.2</td>\n",
       "      <td>Iris-setosa</td>\n",
       "    </tr>\n",
       "    <tr>\n",
       "      <th>11</th>\n",
       "      <td>12</td>\n",
       "      <td>4.8</td>\n",
       "      <td>3.4</td>\n",
       "      <td>1.6</td>\n",
       "      <td>0.2</td>\n",
       "      <td>Iris-setosa</td>\n",
       "    </tr>\n",
       "    <tr>\n",
       "      <th>12</th>\n",
       "      <td>13</td>\n",
       "      <td>4.8</td>\n",
       "      <td>3.0</td>\n",
       "      <td>1.4</td>\n",
       "      <td>0.1</td>\n",
       "      <td>Iris-setosa</td>\n",
       "    </tr>\n",
       "    <tr>\n",
       "      <th>13</th>\n",
       "      <td>14</td>\n",
       "      <td>4.3</td>\n",
       "      <td>3.0</td>\n",
       "      <td>1.1</td>\n",
       "      <td>0.1</td>\n",
       "      <td>Iris-setosa</td>\n",
       "    </tr>\n",
       "    <tr>\n",
       "      <th>14</th>\n",
       "      <td>15</td>\n",
       "      <td>5.8</td>\n",
       "      <td>4.0</td>\n",
       "      <td>1.2</td>\n",
       "      <td>0.2</td>\n",
       "      <td>Iris-setosa</td>\n",
       "    </tr>\n",
       "    <tr>\n",
       "      <th>15</th>\n",
       "      <td>16</td>\n",
       "      <td>5.7</td>\n",
       "      <td>4.4</td>\n",
       "      <td>1.5</td>\n",
       "      <td>0.4</td>\n",
       "      <td>Iris-setosa</td>\n",
       "    </tr>\n",
       "    <tr>\n",
       "      <th>16</th>\n",
       "      <td>17</td>\n",
       "      <td>5.4</td>\n",
       "      <td>3.9</td>\n",
       "      <td>1.3</td>\n",
       "      <td>0.4</td>\n",
       "      <td>Iris-setosa</td>\n",
       "    </tr>\n",
       "    <tr>\n",
       "      <th>17</th>\n",
       "      <td>18</td>\n",
       "      <td>5.1</td>\n",
       "      <td>3.5</td>\n",
       "      <td>1.4</td>\n",
       "      <td>0.3</td>\n",
       "      <td>Iris-setosa</td>\n",
       "    </tr>\n",
       "    <tr>\n",
       "      <th>18</th>\n",
       "      <td>19</td>\n",
       "      <td>5.7</td>\n",
       "      <td>3.8</td>\n",
       "      <td>1.7</td>\n",
       "      <td>0.3</td>\n",
       "      <td>Iris-setosa</td>\n",
       "    </tr>\n",
       "    <tr>\n",
       "      <th>19</th>\n",
       "      <td>20</td>\n",
       "      <td>5.1</td>\n",
       "      <td>3.8</td>\n",
       "      <td>1.5</td>\n",
       "      <td>0.3</td>\n",
       "      <td>Iris-setosa</td>\n",
       "    </tr>\n",
       "  </tbody>\n",
       "</table>\n",
       "</div>"
      ],
      "text/plain": [
       "    Id  SepalLengthCm  SepalWidthCm  PetalLengthCm  PetalWidthCm      Species\n",
       "0    1            5.1           3.5            1.4           0.2  Iris-setosa\n",
       "1    2            4.9           3.0            1.4           0.2  Iris-setosa\n",
       "2    3            4.7           3.2            1.3           0.2  Iris-setosa\n",
       "3    4            4.6           3.1            1.5           0.2  Iris-setosa\n",
       "4    5            5.0           3.6            1.4           0.2  Iris-setosa\n",
       "5    6            5.4           3.9            1.7           0.4  Iris-setosa\n",
       "6    7            4.6           3.4            1.4           0.3  Iris-setosa\n",
       "7    8            5.0           3.4            1.5           0.2  Iris-setosa\n",
       "8    9            4.4           2.9            1.4           0.2  Iris-setosa\n",
       "9   10            4.9           3.1            1.5           0.1  Iris-setosa\n",
       "10  11            5.4           3.7            1.5           0.2  Iris-setosa\n",
       "11  12            4.8           3.4            1.6           0.2  Iris-setosa\n",
       "12  13            4.8           3.0            1.4           0.1  Iris-setosa\n",
       "13  14            4.3           3.0            1.1           0.1  Iris-setosa\n",
       "14  15            5.8           4.0            1.2           0.2  Iris-setosa\n",
       "15  16            5.7           4.4            1.5           0.4  Iris-setosa\n",
       "16  17            5.4           3.9            1.3           0.4  Iris-setosa\n",
       "17  18            5.1           3.5            1.4           0.3  Iris-setosa\n",
       "18  19            5.7           3.8            1.7           0.3  Iris-setosa\n",
       "19  20            5.1           3.8            1.5           0.3  Iris-setosa"
      ]
     },
     "execution_count": 19,
     "metadata": {},
     "output_type": "execute_result"
    }
   ],
   "source": [
    "d.head(20)"
   ]
  },
  {
   "cell_type": "code",
   "execution_count": 20,
   "id": "aab1f04e",
   "metadata": {},
   "outputs": [
    {
     "data": {
      "text/html": [
       "<div>\n",
       "<style scoped>\n",
       "    .dataframe tbody tr th:only-of-type {\n",
       "        vertical-align: middle;\n",
       "    }\n",
       "\n",
       "    .dataframe tbody tr th {\n",
       "        vertical-align: top;\n",
       "    }\n",
       "\n",
       "    .dataframe thead th {\n",
       "        text-align: right;\n",
       "    }\n",
       "</style>\n",
       "<table border=\"1\" class=\"dataframe\">\n",
       "  <thead>\n",
       "    <tr style=\"text-align: right;\">\n",
       "      <th></th>\n",
       "      <th>Id</th>\n",
       "      <th>SepalLengthCm</th>\n",
       "      <th>SepalWidthCm</th>\n",
       "      <th>PetalLengthCm</th>\n",
       "      <th>PetalWidthCm</th>\n",
       "      <th>Species</th>\n",
       "    </tr>\n",
       "  </thead>\n",
       "  <tbody>\n",
       "    <tr>\n",
       "      <th>145</th>\n",
       "      <td>146</td>\n",
       "      <td>6.7</td>\n",
       "      <td>3.0</td>\n",
       "      <td>5.2</td>\n",
       "      <td>2.3</td>\n",
       "      <td>Iris-virginica</td>\n",
       "    </tr>\n",
       "    <tr>\n",
       "      <th>146</th>\n",
       "      <td>147</td>\n",
       "      <td>6.3</td>\n",
       "      <td>2.5</td>\n",
       "      <td>5.0</td>\n",
       "      <td>1.9</td>\n",
       "      <td>Iris-virginica</td>\n",
       "    </tr>\n",
       "    <tr>\n",
       "      <th>147</th>\n",
       "      <td>148</td>\n",
       "      <td>6.5</td>\n",
       "      <td>3.0</td>\n",
       "      <td>5.2</td>\n",
       "      <td>2.0</td>\n",
       "      <td>Iris-virginica</td>\n",
       "    </tr>\n",
       "    <tr>\n",
       "      <th>148</th>\n",
       "      <td>149</td>\n",
       "      <td>6.2</td>\n",
       "      <td>3.4</td>\n",
       "      <td>5.4</td>\n",
       "      <td>2.3</td>\n",
       "      <td>Iris-virginica</td>\n",
       "    </tr>\n",
       "    <tr>\n",
       "      <th>149</th>\n",
       "      <td>150</td>\n",
       "      <td>5.9</td>\n",
       "      <td>3.0</td>\n",
       "      <td>5.1</td>\n",
       "      <td>1.8</td>\n",
       "      <td>Iris-virginica</td>\n",
       "    </tr>\n",
       "  </tbody>\n",
       "</table>\n",
       "</div>"
      ],
      "text/plain": [
       "      Id  SepalLengthCm  SepalWidthCm  PetalLengthCm  PetalWidthCm  \\\n",
       "145  146            6.7           3.0            5.2           2.3   \n",
       "146  147            6.3           2.5            5.0           1.9   \n",
       "147  148            6.5           3.0            5.2           2.0   \n",
       "148  149            6.2           3.4            5.4           2.3   \n",
       "149  150            5.9           3.0            5.1           1.8   \n",
       "\n",
       "            Species  \n",
       "145  Iris-virginica  \n",
       "146  Iris-virginica  \n",
       "147  Iris-virginica  \n",
       "148  Iris-virginica  \n",
       "149  Iris-virginica  "
      ]
     },
     "execution_count": 20,
     "metadata": {},
     "output_type": "execute_result"
    }
   ],
   "source": [
    "d.tail()"
   ]
  },
  {
   "cell_type": "code",
   "execution_count": 26,
   "id": "8af1357d",
   "metadata": {},
   "outputs": [
    {
     "data": {
      "text/plain": [
       "Id               0\n",
       "SepalLengthCm    0\n",
       "SepalWidthCm     0\n",
       "PetalLengthCm    0\n",
       "PetalWidthCm     0\n",
       "Species          0\n",
       "dtype: int64"
      ]
     },
     "execution_count": 26,
     "metadata": {},
     "output_type": "execute_result"
    }
   ],
   "source": [
    "d.isnull().sum()"
   ]
  },
  {
   "cell_type": "code",
   "execution_count": 27,
   "id": "bb2d9347",
   "metadata": {},
   "outputs": [
    {
     "data": {
      "text/plain": [
       "Id                 int64\n",
       "SepalLengthCm    float64\n",
       "SepalWidthCm     float64\n",
       "PetalLengthCm    float64\n",
       "PetalWidthCm     float64\n",
       "Species           object\n",
       "dtype: object"
      ]
     },
     "execution_count": 27,
     "metadata": {},
     "output_type": "execute_result"
    }
   ],
   "source": [
    "d.dtypes"
   ]
  },
  {
   "cell_type": "code",
   "execution_count": 28,
   "id": "72e107d4",
   "metadata": {},
   "outputs": [],
   "source": [
    "data=df.groupby(\"Species\")"
   ]
  },
  {
   "cell_type": "code",
   "execution_count": 29,
   "id": "5bcd2466",
   "metadata": {},
   "outputs": [
    {
     "data": {
      "text/html": [
       "<div>\n",
       "<style scoped>\n",
       "    .dataframe tbody tr th:only-of-type {\n",
       "        vertical-align: middle;\n",
       "    }\n",
       "\n",
       "    .dataframe tbody tr th {\n",
       "        vertical-align: top;\n",
       "    }\n",
       "\n",
       "    .dataframe thead th {\n",
       "        text-align: right;\n",
       "    }\n",
       "</style>\n",
       "<table border=\"1\" class=\"dataframe\">\n",
       "  <thead>\n",
       "    <tr style=\"text-align: right;\">\n",
       "      <th></th>\n",
       "      <th>Id</th>\n",
       "      <th>SepalLengthCm</th>\n",
       "      <th>SepalWidthCm</th>\n",
       "      <th>PetalLengthCm</th>\n",
       "      <th>PetalWidthCm</th>\n",
       "      <th>Species</th>\n",
       "    </tr>\n",
       "  </thead>\n",
       "  <tbody>\n",
       "    <tr>\n",
       "      <th>0</th>\n",
       "      <td>1</td>\n",
       "      <td>5.1</td>\n",
       "      <td>3.5</td>\n",
       "      <td>1.4</td>\n",
       "      <td>0.2</td>\n",
       "      <td>Iris-setosa</td>\n",
       "    </tr>\n",
       "    <tr>\n",
       "      <th>1</th>\n",
       "      <td>2</td>\n",
       "      <td>4.9</td>\n",
       "      <td>3.0</td>\n",
       "      <td>1.4</td>\n",
       "      <td>0.2</td>\n",
       "      <td>Iris-setosa</td>\n",
       "    </tr>\n",
       "    <tr>\n",
       "      <th>2</th>\n",
       "      <td>3</td>\n",
       "      <td>4.7</td>\n",
       "      <td>3.2</td>\n",
       "      <td>1.3</td>\n",
       "      <td>0.2</td>\n",
       "      <td>Iris-setosa</td>\n",
       "    </tr>\n",
       "    <tr>\n",
       "      <th>3</th>\n",
       "      <td>4</td>\n",
       "      <td>4.6</td>\n",
       "      <td>3.1</td>\n",
       "      <td>1.5</td>\n",
       "      <td>0.2</td>\n",
       "      <td>Iris-setosa</td>\n",
       "    </tr>\n",
       "    <tr>\n",
       "      <th>4</th>\n",
       "      <td>5</td>\n",
       "      <td>5.0</td>\n",
       "      <td>3.6</td>\n",
       "      <td>1.4</td>\n",
       "      <td>0.2</td>\n",
       "      <td>Iris-setosa</td>\n",
       "    </tr>\n",
       "    <tr>\n",
       "      <th>50</th>\n",
       "      <td>51</td>\n",
       "      <td>7.0</td>\n",
       "      <td>3.2</td>\n",
       "      <td>4.7</td>\n",
       "      <td>1.4</td>\n",
       "      <td>Iris-versicolor</td>\n",
       "    </tr>\n",
       "    <tr>\n",
       "      <th>51</th>\n",
       "      <td>52</td>\n",
       "      <td>6.4</td>\n",
       "      <td>3.2</td>\n",
       "      <td>4.5</td>\n",
       "      <td>1.5</td>\n",
       "      <td>Iris-versicolor</td>\n",
       "    </tr>\n",
       "    <tr>\n",
       "      <th>52</th>\n",
       "      <td>53</td>\n",
       "      <td>6.9</td>\n",
       "      <td>3.1</td>\n",
       "      <td>4.9</td>\n",
       "      <td>1.5</td>\n",
       "      <td>Iris-versicolor</td>\n",
       "    </tr>\n",
       "    <tr>\n",
       "      <th>53</th>\n",
       "      <td>54</td>\n",
       "      <td>5.5</td>\n",
       "      <td>2.3</td>\n",
       "      <td>4.0</td>\n",
       "      <td>1.3</td>\n",
       "      <td>Iris-versicolor</td>\n",
       "    </tr>\n",
       "    <tr>\n",
       "      <th>54</th>\n",
       "      <td>55</td>\n",
       "      <td>6.5</td>\n",
       "      <td>2.8</td>\n",
       "      <td>4.6</td>\n",
       "      <td>1.5</td>\n",
       "      <td>Iris-versicolor</td>\n",
       "    </tr>\n",
       "    <tr>\n",
       "      <th>100</th>\n",
       "      <td>101</td>\n",
       "      <td>6.3</td>\n",
       "      <td>3.3</td>\n",
       "      <td>6.0</td>\n",
       "      <td>2.5</td>\n",
       "      <td>Iris-virginica</td>\n",
       "    </tr>\n",
       "    <tr>\n",
       "      <th>101</th>\n",
       "      <td>102</td>\n",
       "      <td>5.8</td>\n",
       "      <td>2.7</td>\n",
       "      <td>5.1</td>\n",
       "      <td>1.9</td>\n",
       "      <td>Iris-virginica</td>\n",
       "    </tr>\n",
       "    <tr>\n",
       "      <th>102</th>\n",
       "      <td>103</td>\n",
       "      <td>7.1</td>\n",
       "      <td>3.0</td>\n",
       "      <td>5.9</td>\n",
       "      <td>2.1</td>\n",
       "      <td>Iris-virginica</td>\n",
       "    </tr>\n",
       "    <tr>\n",
       "      <th>103</th>\n",
       "      <td>104</td>\n",
       "      <td>6.3</td>\n",
       "      <td>2.9</td>\n",
       "      <td>5.6</td>\n",
       "      <td>1.8</td>\n",
       "      <td>Iris-virginica</td>\n",
       "    </tr>\n",
       "    <tr>\n",
       "      <th>104</th>\n",
       "      <td>105</td>\n",
       "      <td>6.5</td>\n",
       "      <td>3.0</td>\n",
       "      <td>5.8</td>\n",
       "      <td>2.2</td>\n",
       "      <td>Iris-virginica</td>\n",
       "    </tr>\n",
       "  </tbody>\n",
       "</table>\n",
       "</div>"
      ],
      "text/plain": [
       "      Id  SepalLengthCm  SepalWidthCm  PetalLengthCm  PetalWidthCm  \\\n",
       "0      1            5.1           3.5            1.4           0.2   \n",
       "1      2            4.9           3.0            1.4           0.2   \n",
       "2      3            4.7           3.2            1.3           0.2   \n",
       "3      4            4.6           3.1            1.5           0.2   \n",
       "4      5            5.0           3.6            1.4           0.2   \n",
       "50    51            7.0           3.2            4.7           1.4   \n",
       "51    52            6.4           3.2            4.5           1.5   \n",
       "52    53            6.9           3.1            4.9           1.5   \n",
       "53    54            5.5           2.3            4.0           1.3   \n",
       "54    55            6.5           2.8            4.6           1.5   \n",
       "100  101            6.3           3.3            6.0           2.5   \n",
       "101  102            5.8           2.7            5.1           1.9   \n",
       "102  103            7.1           3.0            5.9           2.1   \n",
       "103  104            6.3           2.9            5.6           1.8   \n",
       "104  105            6.5           3.0            5.8           2.2   \n",
       "\n",
       "             Species  \n",
       "0        Iris-setosa  \n",
       "1        Iris-setosa  \n",
       "2        Iris-setosa  \n",
       "3        Iris-setosa  \n",
       "4        Iris-setosa  \n",
       "50   Iris-versicolor  \n",
       "51   Iris-versicolor  \n",
       "52   Iris-versicolor  \n",
       "53   Iris-versicolor  \n",
       "54   Iris-versicolor  \n",
       "100   Iris-virginica  \n",
       "101   Iris-virginica  \n",
       "102   Iris-virginica  \n",
       "103   Iris-virginica  \n",
       "104   Iris-virginica  "
      ]
     },
     "execution_count": 29,
     "metadata": {},
     "output_type": "execute_result"
    }
   ],
   "source": [
    "data.head()"
   ]
  },
  {
   "cell_type": "code",
   "execution_count": 30,
   "id": "aba439d8",
   "metadata": {},
   "outputs": [
    {
     "data": {
      "text/plain": [
       "array(['Iris-setosa', 'Iris-versicolor', 'Iris-virginica'], dtype=object)"
      ]
     },
     "execution_count": 30,
     "metadata": {},
     "output_type": "execute_result"
    }
   ],
   "source": [
    "d['Species'].unique()"
   ]
  },
  {
   "cell_type": "code",
   "execution_count": 31,
   "id": "5e748965",
   "metadata": {},
   "outputs": [
    {
     "name": "stdout",
     "output_type": "stream",
     "text": [
      "<class 'pandas.core.frame.DataFrame'>\n",
      "RangeIndex: 150 entries, 0 to 149\n",
      "Data columns (total 6 columns):\n",
      " #   Column         Non-Null Count  Dtype  \n",
      "---  ------         --------------  -----  \n",
      " 0   Id             150 non-null    int64  \n",
      " 1   SepalLengthCm  150 non-null    float64\n",
      " 2   SepalWidthCm   150 non-null    float64\n",
      " 3   PetalLengthCm  150 non-null    float64\n",
      " 4   PetalWidthCm   150 non-null    float64\n",
      " 5   Species        150 non-null    object \n",
      "dtypes: float64(4), int64(1), object(1)\n",
      "memory usage: 7.2+ KB\n"
     ]
    }
   ],
   "source": [
    "d.info()"
   ]
  },
  {
   "cell_type": "code",
   "execution_count": null,
   "id": "e1002b6d",
   "metadata": {},
   "outputs": [],
   "source": []
  },
  {
   "cell_type": "markdown",
   "id": "a7b371a2",
   "metadata": {},
   "source": [
    "# 2. Visualizing the dataset\n"
   ]
  },
  {
   "cell_type": "code",
   "execution_count": 37,
   "id": "af7f7321",
   "metadata": {},
   "outputs": [
    {
     "data": {
      "text/plain": [
       "{'whiskers': [<matplotlib.lines.Line2D at 0x15dd861fc40>,\n",
       "  <matplotlib.lines.Line2D at 0x15dd861ffd0>],\n",
       " 'caps': [<matplotlib.lines.Line2D at 0x15dd862b3a0>,\n",
       "  <matplotlib.lines.Line2D at 0x15dd862b730>],\n",
       " 'boxes': [<matplotlib.lines.Line2D at 0x15dd861f8b0>],\n",
       " 'medians': [<matplotlib.lines.Line2D at 0x15dd862bac0>],\n",
       " 'fliers': [<matplotlib.lines.Line2D at 0x15dd862be50>],\n",
       " 'means': []}"
      ]
     },
     "execution_count": 37,
     "metadata": {},
     "output_type": "execute_result"
    },
    {
     "data": {
      "image/png": "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\n",
      "text/plain": [
       "<Figure size 432x288 with 1 Axes>"
      ]
     },
     "metadata": {
      "needs_background": "light"
     },
     "output_type": "display_data"
    }
   ],
   "source": [
    "plt.boxplot(d['SepalLengthCm'])\n"
   ]
  },
  {
   "cell_type": "code",
   "execution_count": 38,
   "id": "699bea45",
   "metadata": {},
   "outputs": [
    {
     "data": {
      "text/plain": [
       "{'whiskers': [<matplotlib.lines.Line2D at 0x15dd8698400>,\n",
       "  <matplotlib.lines.Line2D at 0x15dd8698790>],\n",
       " 'caps': [<matplotlib.lines.Line2D at 0x15dd8698b20>,\n",
       "  <matplotlib.lines.Line2D at 0x15dd8698eb0>],\n",
       " 'boxes': [<matplotlib.lines.Line2D at 0x15dd8698070>],\n",
       " 'medians': [<matplotlib.lines.Line2D at 0x15dd86a4280>],\n",
       " 'fliers': [<matplotlib.lines.Line2D at 0x15dd86a4610>],\n",
       " 'means': []}"
      ]
     },
     "execution_count": 38,
     "metadata": {},
     "output_type": "execute_result"
    },
    {
     "data": {
      "image/png": "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\n",
      "text/plain": [
       "<Figure size 432x288 with 1 Axes>"
      ]
     },
     "metadata": {
      "needs_background": "light"
     },
     "output_type": "display_data"
    }
   ],
   "source": [
    "plt.boxplot(d['SepalWidthCm'])"
   ]
  },
  {
   "cell_type": "code",
   "execution_count": 39,
   "id": "355e0d76",
   "metadata": {},
   "outputs": [
    {
     "data": {
      "text/plain": [
       "{'whiskers': [<matplotlib.lines.Line2D at 0x15dd8704280>,\n",
       "  <matplotlib.lines.Line2D at 0x15dd8704610>],\n",
       " 'caps': [<matplotlib.lines.Line2D at 0x15dd87049a0>,\n",
       "  <matplotlib.lines.Line2D at 0x15dd8704d30>],\n",
       " 'boxes': [<matplotlib.lines.Line2D at 0x15dd86f5f10>],\n",
       " 'medians': [<matplotlib.lines.Line2D at 0x15dd8712100>],\n",
       " 'fliers': [<matplotlib.lines.Line2D at 0x15dd8712490>],\n",
       " 'means': []}"
      ]
     },
     "execution_count": 39,
     "metadata": {},
     "output_type": "execute_result"
    },
    {
     "data": {
      "image/png": "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\n",
      "text/plain": [
       "<Figure size 432x288 with 1 Axes>"
      ]
     },
     "metadata": {
      "needs_background": "light"
     },
     "output_type": "display_data"
    }
   ],
   "source": [
    "plt.boxplot(d['PetalLengthCm'])"
   ]
  },
  {
   "cell_type": "code",
   "execution_count": 40,
   "id": "d03b4b69",
   "metadata": {},
   "outputs": [
    {
     "data": {
      "text/plain": [
       "{'whiskers': [<matplotlib.lines.Line2D at 0x15dd876e250>,\n",
       "  <matplotlib.lines.Line2D at 0x15dd876e5e0>],\n",
       " 'caps': [<matplotlib.lines.Line2D at 0x15dd876e970>,\n",
       "  <matplotlib.lines.Line2D at 0x15dd876ed30>],\n",
       " 'boxes': [<matplotlib.lines.Line2D at 0x15dd875fee0>],\n",
       " 'medians': [<matplotlib.lines.Line2D at 0x15dd877b100>],\n",
       " 'fliers': [<matplotlib.lines.Line2D at 0x15dd877b490>],\n",
       " 'means': []}"
      ]
     },
     "execution_count": 40,
     "metadata": {},
     "output_type": "execute_result"
    },
    {
     "data": {
      "image/png": "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\n",
      "text/plain": [
       "<Figure size 432x288 with 1 Axes>"
      ]
     },
     "metadata": {
      "needs_background": "light"
     },
     "output_type": "display_data"
    }
   ],
   "source": [
    "plt.boxplot(d['PetalWidthCm'])"
   ]
  },
  {
   "cell_type": "code",
   "execution_count": 41,
   "id": "cc1da348",
   "metadata": {},
   "outputs": [
    {
     "data": {
      "text/plain": [
       "<AxesSubplot:>"
      ]
     },
     "execution_count": 41,
     "metadata": {},
     "output_type": "execute_result"
    },
    {
     "data": {
      "image/png": "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\n",
      "text/plain": [
       "<Figure size 432x288 with 2 Axes>"
      ]
     },
     "metadata": {
      "needs_background": "light"
     },
     "output_type": "display_data"
    }
   ],
   "source": [
    "sns.heatmap(df.corr())"
   ]
  },
  {
   "cell_type": "markdown",
   "id": "e0d4866d",
   "metadata": {},
   "source": [
    "# 3. Data Preparation"
   ]
  },
  {
   "cell_type": "code",
   "execution_count": 42,
   "id": "b5f63972",
   "metadata": {},
   "outputs": [],
   "source": [
    "d.drop('Id',axis=1,inplace=True)"
   ]
  },
  {
   "cell_type": "code",
   "execution_count": 48,
   "id": "e34fba70",
   "metadata": {},
   "outputs": [],
   "source": [
    "sp={'Iris-setosa':1,'Iris-versicolor':2,'Iris-virginica':3}\n",
    "\n"
   ]
  },
  {
   "cell_type": "code",
   "execution_count": 53,
   "id": "9197b008",
   "metadata": {},
   "outputs": [
    {
     "ename": "KeyError",
     "evalue": "1",
     "output_type": "error",
     "traceback": [
      "\u001b[1;31m---------------------------------------------------------------------------\u001b[0m",
      "\u001b[1;31mKeyError\u001b[0m                                  Traceback (most recent call last)",
      "\u001b[1;32m~\\AppData\\Local\\Temp/ipykernel_3512/153070963.py\u001b[0m in \u001b[0;36m<module>\u001b[1;34m\u001b[0m\n\u001b[1;32m----> 1\u001b[1;33m \u001b[0md\u001b[0m\u001b[1;33m.\u001b[0m\u001b[0mSpecies\u001b[0m\u001b[1;33m=\u001b[0m\u001b[1;33m[\u001b[0m\u001b[0msp\u001b[0m\u001b[1;33m[\u001b[0m\u001b[0mi\u001b[0m\u001b[1;33m]\u001b[0m  \u001b[1;32mfor\u001b[0m \u001b[0mi\u001b[0m \u001b[1;32min\u001b[0m \u001b[0md\u001b[0m\u001b[1;33m.\u001b[0m\u001b[0mSpecies\u001b[0m\u001b[1;33m]\u001b[0m\u001b[1;33m\u001b[0m\u001b[1;33m\u001b[0m\u001b[0m\n\u001b[0m",
      "\u001b[1;32m~\\AppData\\Local\\Temp/ipykernel_3512/153070963.py\u001b[0m in \u001b[0;36m<listcomp>\u001b[1;34m(.0)\u001b[0m\n\u001b[1;32m----> 1\u001b[1;33m \u001b[0md\u001b[0m\u001b[1;33m.\u001b[0m\u001b[0mSpecies\u001b[0m\u001b[1;33m=\u001b[0m\u001b[1;33m[\u001b[0m\u001b[0msp\u001b[0m\u001b[1;33m[\u001b[0m\u001b[0mi\u001b[0m\u001b[1;33m]\u001b[0m  \u001b[1;32mfor\u001b[0m \u001b[0mi\u001b[0m \u001b[1;32min\u001b[0m \u001b[0md\u001b[0m\u001b[1;33m.\u001b[0m\u001b[0mSpecies\u001b[0m\u001b[1;33m]\u001b[0m\u001b[1;33m\u001b[0m\u001b[1;33m\u001b[0m\u001b[0m\n\u001b[0m",
      "\u001b[1;31mKeyError\u001b[0m: 1"
     ]
    }
   ],
   "source": [
    "d.Species=[sp[i]  for i in d.Species]"
   ]
  },
  {
   "cell_type": "code",
   "execution_count": 55,
   "id": "a5e0aac8",
   "metadata": {
    "collapsed": true
   },
   "outputs": [
    {
     "data": {
      "text/html": [
       "<div>\n",
       "<style scoped>\n",
       "    .dataframe tbody tr th:only-of-type {\n",
       "        vertical-align: middle;\n",
       "    }\n",
       "\n",
       "    .dataframe tbody tr th {\n",
       "        vertical-align: top;\n",
       "    }\n",
       "\n",
       "    .dataframe thead th {\n",
       "        text-align: right;\n",
       "    }\n",
       "</style>\n",
       "<table border=\"1\" class=\"dataframe\">\n",
       "  <thead>\n",
       "    <tr style=\"text-align: right;\">\n",
       "      <th></th>\n",
       "      <th>SepalLengthCm</th>\n",
       "      <th>SepalWidthCm</th>\n",
       "      <th>PetalLengthCm</th>\n",
       "      <th>PetalWidthCm</th>\n",
       "      <th>Species</th>\n",
       "    </tr>\n",
       "  </thead>\n",
       "  <tbody>\n",
       "    <tr>\n",
       "      <th>0</th>\n",
       "      <td>5.1</td>\n",
       "      <td>3.5</td>\n",
       "      <td>1.4</td>\n",
       "      <td>0.2</td>\n",
       "      <td>1</td>\n",
       "    </tr>\n",
       "    <tr>\n",
       "      <th>1</th>\n",
       "      <td>4.9</td>\n",
       "      <td>3.0</td>\n",
       "      <td>1.4</td>\n",
       "      <td>0.2</td>\n",
       "      <td>1</td>\n",
       "    </tr>\n",
       "    <tr>\n",
       "      <th>2</th>\n",
       "      <td>4.7</td>\n",
       "      <td>3.2</td>\n",
       "      <td>1.3</td>\n",
       "      <td>0.2</td>\n",
       "      <td>1</td>\n",
       "    </tr>\n",
       "    <tr>\n",
       "      <th>3</th>\n",
       "      <td>4.6</td>\n",
       "      <td>3.1</td>\n",
       "      <td>1.5</td>\n",
       "      <td>0.2</td>\n",
       "      <td>1</td>\n",
       "    </tr>\n",
       "    <tr>\n",
       "      <th>4</th>\n",
       "      <td>5.0</td>\n",
       "      <td>3.6</td>\n",
       "      <td>1.4</td>\n",
       "      <td>0.2</td>\n",
       "      <td>1</td>\n",
       "    </tr>\n",
       "    <tr>\n",
       "      <th>...</th>\n",
       "      <td>...</td>\n",
       "      <td>...</td>\n",
       "      <td>...</td>\n",
       "      <td>...</td>\n",
       "      <td>...</td>\n",
       "    </tr>\n",
       "    <tr>\n",
       "      <th>145</th>\n",
       "      <td>6.7</td>\n",
       "      <td>3.0</td>\n",
       "      <td>5.2</td>\n",
       "      <td>2.3</td>\n",
       "      <td>3</td>\n",
       "    </tr>\n",
       "    <tr>\n",
       "      <th>146</th>\n",
       "      <td>6.3</td>\n",
       "      <td>2.5</td>\n",
       "      <td>5.0</td>\n",
       "      <td>1.9</td>\n",
       "      <td>3</td>\n",
       "    </tr>\n",
       "    <tr>\n",
       "      <th>147</th>\n",
       "      <td>6.5</td>\n",
       "      <td>3.0</td>\n",
       "      <td>5.2</td>\n",
       "      <td>2.0</td>\n",
       "      <td>3</td>\n",
       "    </tr>\n",
       "    <tr>\n",
       "      <th>148</th>\n",
       "      <td>6.2</td>\n",
       "      <td>3.4</td>\n",
       "      <td>5.4</td>\n",
       "      <td>2.3</td>\n",
       "      <td>3</td>\n",
       "    </tr>\n",
       "    <tr>\n",
       "      <th>149</th>\n",
       "      <td>5.9</td>\n",
       "      <td>3.0</td>\n",
       "      <td>5.1</td>\n",
       "      <td>1.8</td>\n",
       "      <td>3</td>\n",
       "    </tr>\n",
       "  </tbody>\n",
       "</table>\n",
       "<p>150 rows × 5 columns</p>\n",
       "</div>"
      ],
      "text/plain": [
       "     SepalLengthCm  SepalWidthCm  PetalLengthCm  PetalWidthCm  Species\n",
       "0              5.1           3.5            1.4           0.2        1\n",
       "1              4.9           3.0            1.4           0.2        1\n",
       "2              4.7           3.2            1.3           0.2        1\n",
       "3              4.6           3.1            1.5           0.2        1\n",
       "4              5.0           3.6            1.4           0.2        1\n",
       "..             ...           ...            ...           ...      ...\n",
       "145            6.7           3.0            5.2           2.3        3\n",
       "146            6.3           2.5            5.0           1.9        3\n",
       "147            6.5           3.0            5.2           2.0        3\n",
       "148            6.2           3.4            5.4           2.3        3\n",
       "149            5.9           3.0            5.1           1.8        3\n",
       "\n",
       "[150 rows x 5 columns]"
      ]
     },
     "execution_count": 55,
     "metadata": {},
     "output_type": "execute_result"
    }
   ],
   "source": [
    "d"
   ]
  },
  {
   "cell_type": "code",
   "execution_count": 57,
   "id": "7633d2e1",
   "metadata": {},
   "outputs": [
    {
     "data": {
      "text/html": [
       "<div>\n",
       "<style scoped>\n",
       "    .dataframe tbody tr th:only-of-type {\n",
       "        vertical-align: middle;\n",
       "    }\n",
       "\n",
       "    .dataframe tbody tr th {\n",
       "        vertical-align: top;\n",
       "    }\n",
       "\n",
       "    .dataframe thead th {\n",
       "        text-align: right;\n",
       "    }\n",
       "</style>\n",
       "<table border=\"1\" class=\"dataframe\">\n",
       "  <thead>\n",
       "    <tr style=\"text-align: right;\">\n",
       "      <th></th>\n",
       "      <th>SepalLengthCm</th>\n",
       "      <th>SepalWidthCm</th>\n",
       "      <th>PetalLengthCm</th>\n",
       "      <th>PetalWidthCm</th>\n",
       "    </tr>\n",
       "  </thead>\n",
       "  <tbody>\n",
       "    <tr>\n",
       "      <th>0</th>\n",
       "      <td>5.1</td>\n",
       "      <td>3.5</td>\n",
       "      <td>1.4</td>\n",
       "      <td>0.2</td>\n",
       "    </tr>\n",
       "    <tr>\n",
       "      <th>1</th>\n",
       "      <td>4.9</td>\n",
       "      <td>3.0</td>\n",
       "      <td>1.4</td>\n",
       "      <td>0.2</td>\n",
       "    </tr>\n",
       "    <tr>\n",
       "      <th>2</th>\n",
       "      <td>4.7</td>\n",
       "      <td>3.2</td>\n",
       "      <td>1.3</td>\n",
       "      <td>0.2</td>\n",
       "    </tr>\n",
       "    <tr>\n",
       "      <th>3</th>\n",
       "      <td>4.6</td>\n",
       "      <td>3.1</td>\n",
       "      <td>1.5</td>\n",
       "      <td>0.2</td>\n",
       "    </tr>\n",
       "    <tr>\n",
       "      <th>4</th>\n",
       "      <td>5.0</td>\n",
       "      <td>3.6</td>\n",
       "      <td>1.4</td>\n",
       "      <td>0.2</td>\n",
       "    </tr>\n",
       "    <tr>\n",
       "      <th>...</th>\n",
       "      <td>...</td>\n",
       "      <td>...</td>\n",
       "      <td>...</td>\n",
       "      <td>...</td>\n",
       "    </tr>\n",
       "    <tr>\n",
       "      <th>145</th>\n",
       "      <td>6.7</td>\n",
       "      <td>3.0</td>\n",
       "      <td>5.2</td>\n",
       "      <td>2.3</td>\n",
       "    </tr>\n",
       "    <tr>\n",
       "      <th>146</th>\n",
       "      <td>6.3</td>\n",
       "      <td>2.5</td>\n",
       "      <td>5.0</td>\n",
       "      <td>1.9</td>\n",
       "    </tr>\n",
       "    <tr>\n",
       "      <th>147</th>\n",
       "      <td>6.5</td>\n",
       "      <td>3.0</td>\n",
       "      <td>5.2</td>\n",
       "      <td>2.0</td>\n",
       "    </tr>\n",
       "    <tr>\n",
       "      <th>148</th>\n",
       "      <td>6.2</td>\n",
       "      <td>3.4</td>\n",
       "      <td>5.4</td>\n",
       "      <td>2.3</td>\n",
       "    </tr>\n",
       "    <tr>\n",
       "      <th>149</th>\n",
       "      <td>5.9</td>\n",
       "      <td>3.0</td>\n",
       "      <td>5.1</td>\n",
       "      <td>1.8</td>\n",
       "    </tr>\n",
       "  </tbody>\n",
       "</table>\n",
       "<p>150 rows × 4 columns</p>\n",
       "</div>"
      ],
      "text/plain": [
       "     SepalLengthCm  SepalWidthCm  PetalLengthCm  PetalWidthCm\n",
       "0              5.1           3.5            1.4           0.2\n",
       "1              4.9           3.0            1.4           0.2\n",
       "2              4.7           3.2            1.3           0.2\n",
       "3              4.6           3.1            1.5           0.2\n",
       "4              5.0           3.6            1.4           0.2\n",
       "..             ...           ...            ...           ...\n",
       "145            6.7           3.0            5.2           2.3\n",
       "146            6.3           2.5            5.0           1.9\n",
       "147            6.5           3.0            5.2           2.0\n",
       "148            6.2           3.4            5.4           2.3\n",
       "149            5.9           3.0            5.1           1.8\n",
       "\n",
       "[150 rows x 4 columns]"
      ]
     },
     "execution_count": 57,
     "metadata": {},
     "output_type": "execute_result"
    }
   ],
   "source": [
    "X=d.iloc[:,0:4]\n",
    "X"
   ]
  },
  {
   "cell_type": "code",
   "execution_count": 61,
   "id": "93f16986",
   "metadata": {},
   "outputs": [
    {
     "data": {
      "text/plain": [
       "0      1\n",
       "1      1\n",
       "2      1\n",
       "3      1\n",
       "4      1\n",
       "      ..\n",
       "145    3\n",
       "146    3\n",
       "147    3\n",
       "148    3\n",
       "149    3\n",
       "Name: Species, Length: 150, dtype: int64"
      ]
     },
     "execution_count": 61,
     "metadata": {},
     "output_type": "execute_result"
    }
   ],
   "source": [
    "Y=d.iloc[:,4]\n",
    "Y"
   ]
  },
  {
   "cell_type": "code",
   "execution_count": 72,
   "id": "02c45fed",
   "metadata": {},
   "outputs": [],
   "source": [
    "X_train,X_test,y_train,y_test=train_test_split(X,y,test_size=0.33\n",
    "                                               ,random_state=42)"
   ]
  },
  {
   "cell_type": "markdown",
   "id": "a72debeb",
   "metadata": {},
   "source": [
    "# Training Model"
   ]
  },
  {
   "cell_type": "code",
   "execution_count": 62,
   "id": "deb8a045",
   "metadata": {},
   "outputs": [
    {
     "data": {
      "text/plain": [
       "LinearRegression()"
      ]
     },
     "execution_count": 62,
     "metadata": {},
     "output_type": "execute_result"
    }
   ],
   "source": [
    "model=LinearRegression()\n",
    "model.fit(X,y)"
   ]
  },
  {
   "cell_type": "code",
   "execution_count": 63,
   "id": "d35af40f",
   "metadata": {},
   "outputs": [
    {
     "data": {
      "text/plain": [
       "0.9304223675331595"
      ]
     },
     "execution_count": 63,
     "metadata": {},
     "output_type": "execute_result"
    }
   ],
   "source": [
    "model.score(X,y)\n"
   ]
  },
  {
   "cell_type": "code",
   "execution_count": 64,
   "id": "751058e9",
   "metadata": {},
   "outputs": [
    {
     "data": {
      "text/plain": [
       "array([-0.10974146, -0.04424045,  0.22700138,  0.60989412])"
      ]
     },
     "execution_count": 64,
     "metadata": {},
     "output_type": "execute_result"
    }
   ],
   "source": [
    "model.coef_"
   ]
  },
  {
   "cell_type": "code",
   "execution_count": 65,
   "id": "7e5a0385",
   "metadata": {},
   "outputs": [
    {
     "data": {
      "text/plain": [
       "1.192083994828144"
      ]
     },
     "execution_count": 65,
     "metadata": {},
     "output_type": "execute_result"
    }
   ],
   "source": [
    "model.intercept_"
   ]
  },
  {
   "cell_type": "code",
   "execution_count": 73,
   "id": "7ed13971",
   "metadata": {},
   "outputs": [],
   "source": [
    "#MAKING PREDICTIONS\n",
    "\n",
    "y_pred=model.predict(X_test)"
   ]
  },
  {
   "cell_type": "code",
   "execution_count": 75,
   "id": "3dcc2997",
   "metadata": {},
   "outputs": [
    {
     "name": "stdout",
     "output_type": "stream",
     "text": [
      "Mean squared error: 0.04\n"
     ]
    }
   ],
   "source": [
    "#MODEL EVOLUTION\n",
    "print(\"Mean squared error: %.2f\" % np.mean((y_pred - y_test)**2))"
   ]
  },
  {
   "cell_type": "code",
   "execution_count": null,
   "id": "3dcbe8ad",
   "metadata": {},
   "outputs": [],
   "source": []
  }
 ],
 "metadata": {
  "kernelspec": {
   "display_name": "Python 3 (ipykernel)",
   "language": "python",
   "name": "python3"
  },
  "language_info": {
   "codemirror_mode": {
    "name": "ipython",
    "version": 3
   },
   "file_extension": ".py",
   "mimetype": "text/x-python",
   "name": "python",
   "nbconvert_exporter": "python",
   "pygments_lexer": "ipython3",
   "version": "3.9.7"
  }
 },
 "nbformat": 4,
 "nbformat_minor": 5
}
